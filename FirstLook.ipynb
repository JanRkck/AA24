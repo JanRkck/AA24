{
 "cells": [
  {
   "cell_type": "markdown",
   "id": "c2f22b30-0985-42d2-a191-8215dd9217dc",
   "metadata": {},
   "source": [
    "## First looks at the DataSet"
   ]
  },
  {
   "cell_type": "code",
   "execution_count": 11,
   "id": "3737cba3-befc-472f-9d91-241c8c647c23",
   "metadata": {},
   "outputs": [],
   "source": [
    "import numpy as np\n",
    "import pandas as pd\n",
    "import seaborn as sns\n",
    "import matplotlib.pyplot as plt\n",
    "from scipy.stats import zscore"
   ]
  },
  {
   "cell_type": "code",
   "execution_count": 3,
   "id": "01adcfb2-28f0-4d1c-90b0-1b64a53e1f20",
   "metadata": {},
   "outputs": [],
   "source": [
    "df = pd.read_csv(\"data/charging_sessions.csv\")"
   ]
  },
  {
   "cell_type": "code",
   "execution_count": 4,
   "id": "d54fcaa0-6fb3-4967-97ea-aacfaebfe5be",
   "metadata": {},
   "outputs": [
    {
     "name": "stdout",
     "output_type": "stream",
     "text": [
      "\n",
      "First 5 rows:\n",
      "   Unnamed: 0                        id             connectionTime  \\\n",
      "0           0  5e23b149f9af8b5fe4b973cf  2020-01-02 13:08:54+00:00   \n",
      "1           1  5e23b149f9af8b5fe4b973d0  2020-01-02 13:36:50+00:00   \n",
      "2           2  5e23b149f9af8b5fe4b973d1  2020-01-02 13:56:35+00:00   \n",
      "3           3  5e23b149f9af8b5fe4b973d2  2020-01-02 13:59:58+00:00   \n",
      "4           4  5e23b149f9af8b5fe4b973d3  2020-01-02 14:00:01+00:00   \n",
      "\n",
      "              disconnectTime           doneChargingTime  kWhDelivered  \\\n",
      "0  2020-01-02 19:11:15+00:00  2020-01-02 17:31:35+00:00        25.016   \n",
      "1  2020-01-02 22:38:21+00:00  2020-01-02 20:18:05+00:00        33.097   \n",
      "2  2020-01-03 00:39:22+00:00  2020-01-02 16:35:06+00:00         6.521   \n",
      "3  2020-01-02 16:38:39+00:00  2020-01-02 15:18:45+00:00         2.355   \n",
      "4  2020-01-02 22:08:40+00:00  2020-01-02 18:17:30+00:00        13.375   \n",
      "\n",
      "                                sessionID  siteID  spaceID    stationID  \\\n",
      "0  1_1_179_810_2020-01-02 13:08:53.870034       1  AG-3F30  1-1-179-810   \n",
      "1  1_1_193_825_2020-01-02 13:36:49.599853       1  AG-1F01  1-1-193-825   \n",
      "2  1_1_193_829_2020-01-02 13:56:35.214993       1  AG-1F03  1-1-193-829   \n",
      "3  1_1_193_820_2020-01-02 13:59:58.309319       1  AG-1F04  1-1-193-820   \n",
      "4  1_1_193_819_2020-01-02 14:00:00.779967       1  AG-1F06  1-1-193-819   \n",
      "\n",
      "              timezone  userID  \\\n",
      "0  America/Los_Angeles   194.0   \n",
      "1  America/Los_Angeles  4275.0   \n",
      "2  America/Los_Angeles   344.0   \n",
      "3  America/Los_Angeles  1117.0   \n",
      "4  America/Los_Angeles   334.0   \n",
      "\n",
      "                                          userInputs  \n",
      "0  [{'WhPerMile': 250, 'kWhRequested': 25.0, 'mil...  \n",
      "1  [{'WhPerMile': 280, 'kWhRequested': 70.0, 'mil...  \n",
      "2  [{'WhPerMile': 400, 'kWhRequested': 8.0, 'mile...  \n",
      "3  [{'WhPerMile': 400, 'kWhRequested': 8.0, 'mile...  \n",
      "4  [{'WhPerMile': 400, 'kWhRequested': 16.0, 'mil...  \n"
     ]
    }
   ],
   "source": [
    "print(\"\\nFirst 5 rows:\")\n",
    "print(df.head())"
   ]
  },
  {
   "cell_type": "code",
   "execution_count": 5,
   "id": "5eb6587b-b1d2-4d30-a751-1d45d3f1b1d6",
   "metadata": {},
   "outputs": [
    {
     "name": "stdout",
     "output_type": "stream",
     "text": [
      "\n",
      "Shape of the dataset:\n",
      "(66450, 13)\n"
     ]
    }
   ],
   "source": [
    "print(\"\\nShape of the dataset:\")\n",
    "print(df.shape)"
   ]
  },
  {
   "cell_type": "code",
   "execution_count": 6,
   "id": "964fb9a8-e5c9-48d1-8074-e773c6aff101",
   "metadata": {},
   "outputs": [
    {
     "name": "stdout",
     "output_type": "stream",
     "text": [
      "\n",
      "Dataset Info:\n",
      "<class 'pandas.core.frame.DataFrame'>\n",
      "RangeIndex: 66450 entries, 0 to 66449\n",
      "Data columns (total 13 columns):\n",
      " #   Column            Non-Null Count  Dtype  \n",
      "---  ------            --------------  -----  \n",
      " 0   Unnamed: 0        66450 non-null  int64  \n",
      " 1   id                66450 non-null  object \n",
      " 2   connectionTime    66450 non-null  object \n",
      " 3   disconnectTime    66450 non-null  object \n",
      " 4   doneChargingTime  62362 non-null  object \n",
      " 5   kWhDelivered      66450 non-null  float64\n",
      " 6   sessionID         66450 non-null  object \n",
      " 7   siteID            66450 non-null  int64  \n",
      " 8   spaceID           66450 non-null  object \n",
      " 9   stationID         66450 non-null  object \n",
      " 10  timezone          66450 non-null  object \n",
      " 11  userID            49187 non-null  float64\n",
      " 12  userInputs        49187 non-null  object \n",
      "dtypes: float64(2), int64(2), object(9)\n",
      "memory usage: 6.6+ MB\n",
      "None\n"
     ]
    }
   ],
   "source": [
    "print(\"\\nDataset Info:\")\n",
    "print(df.info())"
   ]
  },
  {
   "cell_type": "code",
   "execution_count": 18,
   "id": "d4d75ab7-1704-411f-bf3d-5ed221d5e985",
   "metadata": {},
   "outputs": [
    {
     "name": "stdout",
     "output_type": "stream",
     "text": [
      "\n",
      "Statisitcal Summary:\n",
      "         Unnamed: 0  kWhDelivered        siteID        userID\n",
      "count  66450.000000  66450.000000  66450.000000  49187.000000\n",
      "mean    4726.102062     11.787916      1.472656   1800.494582\n",
      "std     3568.025394     10.314789      0.499256   2617.548614\n",
      "min        0.000000      0.501000      1.000000      1.000000\n",
      "25%     1845.000000      5.097000      1.000000    431.000000\n",
      "50%     3960.000000      9.140000      1.000000    818.000000\n",
      "75%     7027.000000     14.183000      2.000000   1805.000000\n",
      "max    15291.000000    108.797242      2.000000  19923.000000\n"
     ]
    }
   ],
   "source": [
    "print(\"\\nStatisitcal Summary:\")\n",
    "print(df.describe())"
   ]
  },
  {
   "cell_type": "code",
   "execution_count": 19,
   "id": "e75e011b-98cf-42e7-b38a-ad4c2a1af48d",
   "metadata": {},
   "outputs": [
    {
     "name": "stdout",
     "output_type": "stream",
     "text": [
      "\n",
      "Column names:\n",
      "Index(['Unnamed: 0', 'id', 'connectionTime', 'disconnectTime',\n",
      "       'doneChargingTime', 'kWhDelivered', 'sessionID', 'siteID', 'spaceID',\n",
      "       'stationID', 'timezone', 'userID', 'userInputs'],\n",
      "      dtype='object')\n"
     ]
    }
   ],
   "source": [
    "print(\"\\nColumn names:\")\n",
    "print(df.columns)"
   ]
  },
  {
   "cell_type": "markdown",
   "id": "eba91374-51ab-4ecf-9bea-301514310a62",
   "metadata": {},
   "source": [
    "## Inspecting missing data"
   ]
  },
  {
   "cell_type": "code",
   "execution_count": 20,
   "id": "1cbfe43c-dba7-48a9-9d7c-344eddf5d434",
   "metadata": {},
   "outputs": [
    {
     "name": "stdout",
     "output_type": "stream",
     "text": [
      "\n",
      "Missing values in each column:\n",
      "Unnamed: 0              0\n",
      "id                      0\n",
      "connectionTime          0\n",
      "disconnectTime          0\n",
      "doneChargingTime     4088\n",
      "kWhDelivered            0\n",
      "sessionID               0\n",
      "siteID                  0\n",
      "spaceID                 0\n",
      "stationID               0\n",
      "timezone                0\n",
      "userID              17263\n",
      "userInputs          17263\n",
      "dtype: int64\n"
     ]
    }
   ],
   "source": [
    "print(\"\\nMissing values in each column:\")\n",
    "print(df.isnull().sum())"
   ]
  },
  {
   "cell_type": "code",
   "execution_count": 26,
   "id": "51f999c5-6a22-4774-b69b-876023d91ff0",
   "metadata": {},
   "outputs": [
    {
     "data": {
      "image/png": "[encoded data removed]",
      "text/plain": [
       "<Figure size 640x480 with 1 Axes>"
      ]
     },
     "metadata": {},
     "output_type": "display_data"
    }
   ],
   "source": [
    "sns.heatmap(df.isnull(), cbar=False, cmap=\"viridis\")\n",
    "plt.show()"
   ]
  },
  {
   "cell_type": "code",
   "execution_count": null,
   "id": "547df1ff-50c0-4d98-8699-709b7a06060b",
   "metadata": {},
   "outputs": [],
   "source": []
  },
  {
   "cell_type": "code",
   "execution_count": 29,
   "id": "75808d44-c259-44bd-911a-4318e1836924",
   "metadata": {},
   "outputs": [
    {
     "name": "stdout",
     "output_type": "stream",
     "text": [
      "Unnamed: 0          15292\n",
      "id                  65037\n",
      "connectionTime      64839\n",
      "disconnectTime      64906\n",
      "doneChargingTime    60637\n",
      "kWhDelivered        25629\n",
      "sessionID           65037\n",
      "siteID                  2\n",
      "spaceID               107\n",
      "stationID             107\n",
      "timezone                1\n",
      "userID               1006\n",
      "userInputs          47822\n",
      "dtype: int64\n"
     ]
    }
   ],
   "source": [
    "# Count of unique values for each column\n",
    "print(df.nunique())"
   ]
  },
  {
   "cell_type": "markdown",
   "id": "7296082f-653b-4f49-aa5c-bf81cdab9292",
   "metadata": {},
   "source": [
    "## Examine correlations for numerical data"
   ]
  },
  {
   "cell_type": "code",
   "execution_count": 31,
   "id": "5ec721cb-f7bf-4508-bd8a-372e5c48b778",
   "metadata": {},
   "outputs": [
    {
     "name": "stdout",
     "output_type": "stream",
     "text": [
      "              Unnamed: 0  kWhDelivered    siteID    userID\n",
      "Unnamed: 0      1.000000     -0.069987  0.274109 -0.136843\n",
      "kWhDelivered   -0.069987      1.000000 -0.232994  0.048960\n",
      "siteID          0.274109     -0.232994  1.000000  0.032221\n",
      "userID         -0.136843      0.048960  0.032221  1.000000\n"
     ]
    }
   ],
   "source": [
    "# Select only numeric columns\n",
    "numeric_df = df.select_dtypes(include=['float64', 'int64'])\n",
    "\n",
    "# Compute the correlation matrix\n",
    "correlation_matrix = numeric_df.corr()\n",
    "print(correlation_matrix)\n"
   ]
  },
  {
   "cell_type": "code",
   "execution_count": 8,
   "id": "f4eb6142-1430-40a4-9891-e923693ee408",
   "metadata": {},
   "outputs": [
    {
     "data": {
      "text/html": [
       "<div>\n",
       "<style scoped>\n",
       "    .dataframe tbody tr th:only-of-type {\n",
       "        vertical-align: middle;\n",
       "    }\n",
       "\n",
       "    .dataframe tbody tr th {\n",
       "        vertical-align: top;\n",
       "    }\n",
       "\n",
       "    .dataframe thead th {\n",
       "        text-align: right;\n",
       "    }\n",
       "</style>\n",
       "<table border=\"1\" class=\"dataframe\">\n",
       "  <thead>\n",
       "    <tr style=\"text-align: right;\">\n",
       "      <th></th>\n",
       "      <th>Unnamed: 0</th>\n",
       "      <th>id</th>\n",
       "      <th>connectionTime</th>\n",
       "      <th>disconnectTime</th>\n",
       "      <th>doneChargingTime</th>\n",
       "      <th>kWhDelivered</th>\n",
       "      <th>sessionID</th>\n",
       "      <th>siteID</th>\n",
       "      <th>spaceID</th>\n",
       "      <th>stationID</th>\n",
       "      <th>timezone</th>\n",
       "      <th>userID</th>\n",
       "      <th>userInputs</th>\n",
       "    </tr>\n",
       "  </thead>\n",
       "  <tbody>\n",
       "    <tr>\n",
       "      <th>3884</th>\n",
       "      <td>3884</td>\n",
       "      <td>5ebde28df9af8b709bfd524a</td>\n",
       "      <td>2020-04-28 14:15:03+00:00</td>\n",
       "      <td>2020-04-28 17:54:24+00:00</td>\n",
       "      <td>NaN</td>\n",
       "      <td>0.738</td>\n",
       "      <td>1_1_193_820_2020-04-28 14:16:02.714331</td>\n",
       "      <td>1</td>\n",
       "      <td>AG-1F04</td>\n",
       "      <td>1-1-193-820</td>\n",
       "      <td>America/Los_Angeles</td>\n",
       "      <td>NaN</td>\n",
       "      <td>NaN</td>\n",
       "    </tr>\n",
       "    <tr>\n",
       "      <th>13301</th>\n",
       "      <td>7728</td>\n",
       "      <td>5e040d3ff9af8b5c50054c08</td>\n",
       "      <td>2019-12-09 14:32:44+00:00</td>\n",
       "      <td>2019-12-09 16:14:51+00:00</td>\n",
       "      <td>NaN</td>\n",
       "      <td>0.723</td>\n",
       "      <td>1_1_178_824_2019-12-09 14:32:43.608397</td>\n",
       "      <td>1</td>\n",
       "      <td>AG-1F07</td>\n",
       "      <td>1-1-178-824</td>\n",
       "      <td>America/Los_Angeles</td>\n",
       "      <td>NaN</td>\n",
       "      <td>NaN</td>\n",
       "    </tr>\n",
       "    <tr>\n",
       "      <th>13307</th>\n",
       "      <td>7734</td>\n",
       "      <td>5e040d3ff9af8b5c50054c0e</td>\n",
       "      <td>2019-12-09 14:55:48+00:00</td>\n",
       "      <td>2019-12-10 01:11:48+00:00</td>\n",
       "      <td>NaN</td>\n",
       "      <td>1.341</td>\n",
       "      <td>1_1_179_781_2019-12-09 14:55:48.478805</td>\n",
       "      <td>1</td>\n",
       "      <td>AG-3F31</td>\n",
       "      <td>1-1-179-781</td>\n",
       "      <td>America/Los_Angeles</td>\n",
       "      <td>NaN</td>\n",
       "      <td>NaN</td>\n",
       "    </tr>\n",
       "    <tr>\n",
       "      <th>13308</th>\n",
       "      <td>7735</td>\n",
       "      <td>5e040d3ff9af8b5c50054c0f</td>\n",
       "      <td>2019-12-09 14:57:46+00:00</td>\n",
       "      <td>2019-12-09 19:08:01+00:00</td>\n",
       "      <td>NaN</td>\n",
       "      <td>1.021</td>\n",
       "      <td>1_1_193_816_2019-12-09 14:57:46.478885</td>\n",
       "      <td>1</td>\n",
       "      <td>AG-1F05</td>\n",
       "      <td>1-1-193-816</td>\n",
       "      <td>America/Los_Angeles</td>\n",
       "      <td>NaN</td>\n",
       "      <td>NaN</td>\n",
       "    </tr>\n",
       "    <tr>\n",
       "      <th>13316</th>\n",
       "      <td>7743</td>\n",
       "      <td>5e040d3ff9af8b5c50054c17</td>\n",
       "      <td>2019-12-09 15:13:03+00:00</td>\n",
       "      <td>2019-12-09 21:49:03+00:00</td>\n",
       "      <td>NaN</td>\n",
       "      <td>0.864</td>\n",
       "      <td>1_1_179_813_2019-12-09 15:13:02.712452</td>\n",
       "      <td>1</td>\n",
       "      <td>AG-3F15</td>\n",
       "      <td>1-1-179-813</td>\n",
       "      <td>America/Los_Angeles</td>\n",
       "      <td>NaN</td>\n",
       "      <td>NaN</td>\n",
       "    </tr>\n",
       "    <tr>\n",
       "      <th>...</th>\n",
       "      <td>...</td>\n",
       "      <td>...</td>\n",
       "      <td>...</td>\n",
       "      <td>...</td>\n",
       "      <td>...</td>\n",
       "      <td>...</td>\n",
       "      <td>...</td>\n",
       "      <td>...</td>\n",
       "      <td>...</td>\n",
       "      <td>...</td>\n",
       "      <td>...</td>\n",
       "      <td>...</td>\n",
       "      <td>...</td>\n",
       "    </tr>\n",
       "    <tr>\n",
       "      <th>52831</th>\n",
       "      <td>1244</td>\n",
       "      <td>5c36631ef9af8b4639a8e594</td>\n",
       "      <td>2018-10-08 13:59:40+00:00</td>\n",
       "      <td>2018-10-08 23:44:24+00:00</td>\n",
       "      <td>NaN</td>\n",
       "      <td>6.808</td>\n",
       "      <td>1_1_194_818_2018-10-08 13:59:39.888889</td>\n",
       "      <td>1</td>\n",
       "      <td>AG-1F14</td>\n",
       "      <td>1-1-194-818</td>\n",
       "      <td>America/Los_Angeles</td>\n",
       "      <td>NaN</td>\n",
       "      <td>NaN</td>\n",
       "    </tr>\n",
       "    <tr>\n",
       "      <th>52851</th>\n",
       "      <td>1264</td>\n",
       "      <td>5c36631ef9af8b4639a8e5a8</td>\n",
       "      <td>2018-10-08 14:43:30+00:00</td>\n",
       "      <td>2018-10-08 22:28:42+00:00</td>\n",
       "      <td>NaN</td>\n",
       "      <td>4.105</td>\n",
       "      <td>1_1_191_782_2018-10-08 14:43:29.905671</td>\n",
       "      <td>1</td>\n",
       "      <td>AG-4F50</td>\n",
       "      <td>1-1-191-782</td>\n",
       "      <td>America/Los_Angeles</td>\n",
       "      <td>NaN</td>\n",
       "      <td>NaN</td>\n",
       "    </tr>\n",
       "    <tr>\n",
       "      <th>52863</th>\n",
       "      <td>1276</td>\n",
       "      <td>5c36631ef9af8b4639a8e5b4</td>\n",
       "      <td>2018-10-08 19:14:11+00:00</td>\n",
       "      <td>2018-10-08 23:45:54+00:00</td>\n",
       "      <td>NaN</td>\n",
       "      <td>17.391</td>\n",
       "      <td>1_1_191_802_2018-10-08 19:14:11.503418</td>\n",
       "      <td>1</td>\n",
       "      <td>AG-4F44</td>\n",
       "      <td>1-1-191-802</td>\n",
       "      <td>America/Los_Angeles</td>\n",
       "      <td>NaN</td>\n",
       "      <td>NaN</td>\n",
       "    </tr>\n",
       "    <tr>\n",
       "      <th>52867</th>\n",
       "      <td>1280</td>\n",
       "      <td>5c36631ef9af8b4639a8e5b8</td>\n",
       "      <td>2018-10-08 20:47:54+00:00</td>\n",
       "      <td>2018-10-08 22:38:26+00:00</td>\n",
       "      <td>NaN</td>\n",
       "      <td>4.238</td>\n",
       "      <td>1_1_179_801_2018-10-08 20:47:53.737009</td>\n",
       "      <td>1</td>\n",
       "      <td>AG-3F21</td>\n",
       "      <td>1-1-179-801</td>\n",
       "      <td>America/Los_Angeles</td>\n",
       "      <td>NaN</td>\n",
       "      <td>NaN</td>\n",
       "    </tr>\n",
       "    <tr>\n",
       "      <th>52875</th>\n",
       "      <td>1288</td>\n",
       "      <td>5c36631ef9af8b4639a8e5c0</td>\n",
       "      <td>2018-10-08 23:08:18+00:00</td>\n",
       "      <td>2018-10-08 23:50:20+00:00</td>\n",
       "      <td>NaN</td>\n",
       "      <td>2.612</td>\n",
       "      <td>1_1_193_827_2018-10-08 23:08:18.304719</td>\n",
       "      <td>1</td>\n",
       "      <td>AG-1F02</td>\n",
       "      <td>1-1-193-827</td>\n",
       "      <td>America/Los_Angeles</td>\n",
       "      <td>NaN</td>\n",
       "      <td>NaN</td>\n",
       "    </tr>\n",
       "  </tbody>\n",
       "</table>\n",
       "<p>909 rows × 13 columns</p>\n",
       "</div>"
      ],
      "text/plain": [
       "       Unnamed: 0                        id             connectionTime  \\\n",
       "3884         3884  5ebde28df9af8b709bfd524a  2020-04-28 14:15:03+00:00   \n",
       "13301        7728  5e040d3ff9af8b5c50054c08  2019-12-09 14:32:44+00:00   \n",
       "13307        7734  5e040d3ff9af8b5c50054c0e  2019-12-09 14:55:48+00:00   \n",
       "13308        7735  5e040d3ff9af8b5c50054c0f  2019-12-09 14:57:46+00:00   \n",
       "13316        7743  5e040d3ff9af8b5c50054c17  2019-12-09 15:13:03+00:00   \n",
       "...           ...                       ...                        ...   \n",
       "52831        1244  5c36631ef9af8b4639a8e594  2018-10-08 13:59:40+00:00   \n",
       "52851        1264  5c36631ef9af8b4639a8e5a8  2018-10-08 14:43:30+00:00   \n",
       "52863        1276  5c36631ef9af8b4639a8e5b4  2018-10-08 19:14:11+00:00   \n",
       "52867        1280  5c36631ef9af8b4639a8e5b8  2018-10-08 20:47:54+00:00   \n",
       "52875        1288  5c36631ef9af8b4639a8e5c0  2018-10-08 23:08:18+00:00   \n",
       "\n",
       "                  disconnectTime doneChargingTime  kWhDelivered  \\\n",
       "3884   2020-04-28 17:54:24+00:00              NaN         0.738   \n",
       "13301  2019-12-09 16:14:51+00:00              NaN         0.723   \n",
       "13307  2019-12-10 01:11:48+00:00              NaN         1.341   \n",
       "13308  2019-12-09 19:08:01+00:00              NaN         1.021   \n",
       "13316  2019-12-09 21:49:03+00:00              NaN         0.864   \n",
       "...                          ...              ...           ...   \n",
       "52831  2018-10-08 23:44:24+00:00              NaN         6.808   \n",
       "52851  2018-10-08 22:28:42+00:00              NaN         4.105   \n",
       "52863  2018-10-08 23:45:54+00:00              NaN        17.391   \n",
       "52867  2018-10-08 22:38:26+00:00              NaN         4.238   \n",
       "52875  2018-10-08 23:50:20+00:00              NaN         2.612   \n",
       "\n",
       "                                    sessionID  siteID  spaceID    stationID  \\\n",
       "3884   1_1_193_820_2020-04-28 14:16:02.714331       1  AG-1F04  1-1-193-820   \n",
       "13301  1_1_178_824_2019-12-09 14:32:43.608397       1  AG-1F07  1-1-178-824   \n",
       "13307  1_1_179_781_2019-12-09 14:55:48.478805       1  AG-3F31  1-1-179-781   \n",
       "13308  1_1_193_816_2019-12-09 14:57:46.478885       1  AG-1F05  1-1-193-816   \n",
       "13316  1_1_179_813_2019-12-09 15:13:02.712452       1  AG-3F15  1-1-179-813   \n",
       "...                                       ...     ...      ...          ...   \n",
       "52831  1_1_194_818_2018-10-08 13:59:39.888889       1  AG-1F14  1-1-194-818   \n",
       "52851  1_1_191_782_2018-10-08 14:43:29.905671       1  AG-4F50  1-1-191-782   \n",
       "52863  1_1_191_802_2018-10-08 19:14:11.503418       1  AG-4F44  1-1-191-802   \n",
       "52867  1_1_179_801_2018-10-08 20:47:53.737009       1  AG-3F21  1-1-179-801   \n",
       "52875  1_1_193_827_2018-10-08 23:08:18.304719       1  AG-1F02  1-1-193-827   \n",
       "\n",
       "                  timezone  userID userInputs  \n",
       "3884   America/Los_Angeles     NaN        NaN  \n",
       "13301  America/Los_Angeles     NaN        NaN  \n",
       "13307  America/Los_Angeles     NaN        NaN  \n",
       "13308  America/Los_Angeles     NaN        NaN  \n",
       "13316  America/Los_Angeles     NaN        NaN  \n",
       "...                    ...     ...        ...  \n",
       "52831  America/Los_Angeles     NaN        NaN  \n",
       "52851  America/Los_Angeles     NaN        NaN  \n",
       "52863  America/Los_Angeles     NaN        NaN  \n",
       "52867  America/Los_Angeles     NaN        NaN  \n",
       "52875  America/Los_Angeles     NaN        NaN  \n",
       "\n",
       "[909 rows x 13 columns]"
      ]
     },
     "execution_count": 8,
     "metadata": {},
     "output_type": "execute_result"
    }
   ],
   "source": [
    "df[(df['doneChargingTime'].isnull()) & (df['userID'].isnull()) ]"
   ]
  },
  {
   "cell_type": "code",
   "execution_count": null,
   "id": "027778c5-dfb7-4c13-a078-bb0127874bbb",
   "metadata": {},
   "outputs": [],
   "source": []
  }
 ],
 "metadata": {
  "kernelspec": {
   "display_name": "Python 3 (ipykernel)",
   "language": "python",
   "name": "python3"
  },
  "language_info": {
   "codemirror_mode": {
    "name": "ipython",
    "version": 3
   },
   "file_extension": ".py",
   "mimetype": "text/x-python",
   "name": "python",
   "nbconvert_exporter": "python",
   "pygments_lexer": "ipython3",
   "version": "3.12.3"
  }
 },
 "nbformat": 4,
 "nbformat_minor": 5
}
