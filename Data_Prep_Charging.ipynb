{
 "cells": [
  {
   "cell_type": "markdown",
   "metadata": {},
   "source": [
    "# Cleaning Charging Sessions Data Set"
   ]
  },
  {
   "cell_type": "code",
   "execution_count": 1,
   "metadata": {},
   "outputs": [],
   "source": [
    "import numpy as np\n",
    "import pandas as pd\n",
    "import seaborn as sns\n",
    "import matplotlib.pyplot as plt\n",
    "import ast\n",
    "from scipy.stats import zscore"
   ]
  },
  {
   "cell_type": "markdown",
   "metadata": {},
   "source": [
    "### Load Data"
   ]
  },
  {
   "cell_type": "code",
   "execution_count": 2,
   "metadata": {},
   "outputs": [],
   "source": [
    "df_ev = pd.read_csv(\"data/charging_sessions.csv\")"
   ]
  },
  {
   "cell_type": "markdown",
   "metadata": {},
   "source": [
    "### Inspect Data"
   ]
  },
  {
   "cell_type": "code",
   "execution_count": 3,
   "metadata": {},
   "outputs": [
    {
     "data": {
      "text/html": [
       "<div>\n",
       "<style scoped>\n",
       "    .dataframe tbody tr th:only-of-type {\n",
       "        vertical-align: middle;\n",
       "    }\n",
       "\n",
       "    .dataframe tbody tr th {\n",
       "        vertical-align: top;\n",
       "    }\n",
       "\n",
       "    .dataframe thead th {\n",
       "        text-align: right;\n",
       "    }\n",
       "</style>\n",
       "<table border=\"1\" class=\"dataframe\">\n",
       "  <thead>\n",
       "    <tr style=\"text-align: right;\">\n",
       "      <th></th>\n",
       "      <th>Unnamed: 0</th>\n",
       "      <th>id</th>\n",
       "      <th>connectionTime</th>\n",
       "      <th>disconnectTime</th>\n",
       "      <th>doneChargingTime</th>\n",
       "      <th>kWhDelivered</th>\n",
       "      <th>sessionID</th>\n",
       "      <th>siteID</th>\n",
       "      <th>spaceID</th>\n",
       "      <th>stationID</th>\n",
       "      <th>timezone</th>\n",
       "      <th>userID</th>\n",
       "      <th>userInputs</th>\n",
       "    </tr>\n",
       "  </thead>\n",
       "  <tbody>\n",
       "    <tr>\n",
       "      <th>0</th>\n",
       "      <td>0</td>\n",
       "      <td>5e23b149f9af8b5fe4b973cf</td>\n",
       "      <td>2020-01-02 13:08:54+00:00</td>\n",
       "      <td>2020-01-02 19:11:15+00:00</td>\n",
       "      <td>2020-01-02 17:31:35+00:00</td>\n",
       "      <td>25.016</td>\n",
       "      <td>1_1_179_810_2020-01-02 13:08:53.870034</td>\n",
       "      <td>1</td>\n",
       "      <td>AG-3F30</td>\n",
       "      <td>1-1-179-810</td>\n",
       "      <td>America/Los_Angeles</td>\n",
       "      <td>194.0</td>\n",
       "      <td>[{'WhPerMile': 250, 'kWhRequested': 25.0, 'mil...</td>\n",
       "    </tr>\n",
       "    <tr>\n",
       "      <th>1</th>\n",
       "      <td>1</td>\n",
       "      <td>5e23b149f9af8b5fe4b973d0</td>\n",
       "      <td>2020-01-02 13:36:50+00:00</td>\n",
       "      <td>2020-01-02 22:38:21+00:00</td>\n",
       "      <td>2020-01-02 20:18:05+00:00</td>\n",
       "      <td>33.097</td>\n",
       "      <td>1_1_193_825_2020-01-02 13:36:49.599853</td>\n",
       "      <td>1</td>\n",
       "      <td>AG-1F01</td>\n",
       "      <td>1-1-193-825</td>\n",
       "      <td>America/Los_Angeles</td>\n",
       "      <td>4275.0</td>\n",
       "      <td>[{'WhPerMile': 280, 'kWhRequested': 70.0, 'mil...</td>\n",
       "    </tr>\n",
       "    <tr>\n",
       "      <th>2</th>\n",
       "      <td>2</td>\n",
       "      <td>5e23b149f9af8b5fe4b973d1</td>\n",
       "      <td>2020-01-02 13:56:35+00:00</td>\n",
       "      <td>2020-01-03 00:39:22+00:00</td>\n",
       "      <td>2020-01-02 16:35:06+00:00</td>\n",
       "      <td>6.521</td>\n",
       "      <td>1_1_193_829_2020-01-02 13:56:35.214993</td>\n",
       "      <td>1</td>\n",
       "      <td>AG-1F03</td>\n",
       "      <td>1-1-193-829</td>\n",
       "      <td>America/Los_Angeles</td>\n",
       "      <td>344.0</td>\n",
       "      <td>[{'WhPerMile': 400, 'kWhRequested': 8.0, 'mile...</td>\n",
       "    </tr>\n",
       "    <tr>\n",
       "      <th>3</th>\n",
       "      <td>3</td>\n",
       "      <td>5e23b149f9af8b5fe4b973d2</td>\n",
       "      <td>2020-01-02 13:59:58+00:00</td>\n",
       "      <td>2020-01-02 16:38:39+00:00</td>\n",
       "      <td>2020-01-02 15:18:45+00:00</td>\n",
       "      <td>2.355</td>\n",
       "      <td>1_1_193_820_2020-01-02 13:59:58.309319</td>\n",
       "      <td>1</td>\n",
       "      <td>AG-1F04</td>\n",
       "      <td>1-1-193-820</td>\n",
       "      <td>America/Los_Angeles</td>\n",
       "      <td>1117.0</td>\n",
       "      <td>[{'WhPerMile': 400, 'kWhRequested': 8.0, 'mile...</td>\n",
       "    </tr>\n",
       "    <tr>\n",
       "      <th>4</th>\n",
       "      <td>4</td>\n",
       "      <td>5e23b149f9af8b5fe4b973d3</td>\n",
       "      <td>2020-01-02 14:00:01+00:00</td>\n",
       "      <td>2020-01-02 22:08:40+00:00</td>\n",
       "      <td>2020-01-02 18:17:30+00:00</td>\n",
       "      <td>13.375</td>\n",
       "      <td>1_1_193_819_2020-01-02 14:00:00.779967</td>\n",
       "      <td>1</td>\n",
       "      <td>AG-1F06</td>\n",
       "      <td>1-1-193-819</td>\n",
       "      <td>America/Los_Angeles</td>\n",
       "      <td>334.0</td>\n",
       "      <td>[{'WhPerMile': 400, 'kWhRequested': 16.0, 'mil...</td>\n",
       "    </tr>\n",
       "    <tr>\n",
       "      <th>...</th>\n",
       "      <td>...</td>\n",
       "      <td>...</td>\n",
       "      <td>...</td>\n",
       "      <td>...</td>\n",
       "      <td>...</td>\n",
       "      <td>...</td>\n",
       "      <td>...</td>\n",
       "      <td>...</td>\n",
       "      <td>...</td>\n",
       "      <td>...</td>\n",
       "      <td>...</td>\n",
       "      <td>...</td>\n",
       "      <td>...</td>\n",
       "    </tr>\n",
       "    <tr>\n",
       "      <th>66445</th>\n",
       "      <td>10083</td>\n",
       "      <td>5d574ad2f9af8b4c10c03652</td>\n",
       "      <td>2019-07-31 18:08:04+00:00</td>\n",
       "      <td>2019-07-31 23:29:18+00:00</td>\n",
       "      <td>2019-07-31 23:30:18+00:00</td>\n",
       "      <td>28.787</td>\n",
       "      <td>1_1_179_809_2019-07-31 18:08:04.432654</td>\n",
       "      <td>1</td>\n",
       "      <td>AG-3F27</td>\n",
       "      <td>1-1-179-809</td>\n",
       "      <td>America/Los_Angeles</td>\n",
       "      <td>393.0</td>\n",
       "      <td>[{'WhPerMile': 240, 'kWhRequested': 31.2, 'mil...</td>\n",
       "    </tr>\n",
       "    <tr>\n",
       "      <th>66446</th>\n",
       "      <td>10084</td>\n",
       "      <td>5d574ad2f9af8b4c10c03653</td>\n",
       "      <td>2019-07-31 18:40:41+00:00</td>\n",
       "      <td>2019-08-01 00:59:42+00:00</td>\n",
       "      <td>2019-07-31 21:44:23+00:00</td>\n",
       "      <td>7.787</td>\n",
       "      <td>1_1_179_810_2019-07-31 18:40:40.900203</td>\n",
       "      <td>1</td>\n",
       "      <td>AG-3F30</td>\n",
       "      <td>1-1-179-810</td>\n",
       "      <td>America/Los_Angeles</td>\n",
       "      <td>220.0</td>\n",
       "      <td>[{'WhPerMile': 333, 'kWhRequested': 6.66, 'mil...</td>\n",
       "    </tr>\n",
       "    <tr>\n",
       "      <th>66447</th>\n",
       "      <td>10085</td>\n",
       "      <td>5d574ad2f9af8b4c10c03654</td>\n",
       "      <td>2019-07-31 19:04:40+00:00</td>\n",
       "      <td>2019-07-31 22:44:22+00:00</td>\n",
       "      <td>2019-07-31 22:45:21+00:00</td>\n",
       "      <td>11.274</td>\n",
       "      <td>1_1_191_795_2019-07-31 19:04:40.098273</td>\n",
       "      <td>1</td>\n",
       "      <td>AG-4F51</td>\n",
       "      <td>1-1-191-795</td>\n",
       "      <td>America/Los_Angeles</td>\n",
       "      <td>1974.0</td>\n",
       "      <td>[{'WhPerMile': 333, 'kWhRequested': 19.98, 'mi...</td>\n",
       "    </tr>\n",
       "    <tr>\n",
       "      <th>66448</th>\n",
       "      <td>10086</td>\n",
       "      <td>5d574ad2f9af8b4c10c03655</td>\n",
       "      <td>2019-07-31 19:19:47+00:00</td>\n",
       "      <td>2019-08-01 00:34:51+00:00</td>\n",
       "      <td>2019-07-31 21:25:30+00:00</td>\n",
       "      <td>11.589</td>\n",
       "      <td>1_1_191_778_2019-07-31 19:19:46.919358</td>\n",
       "      <td>1</td>\n",
       "      <td>AG-4F43</td>\n",
       "      <td>1-1-191-778</td>\n",
       "      <td>America/Los_Angeles</td>\n",
       "      <td>942.0</td>\n",
       "      <td>[{'WhPerMile': 275, 'kWhRequested': 22.0, 'mil...</td>\n",
       "    </tr>\n",
       "    <tr>\n",
       "      <th>66449</th>\n",
       "      <td>10087</td>\n",
       "      <td>5d574ad2f9af8b4c10c03656</td>\n",
       "      <td>2019-07-31 19:21:47+00:00</td>\n",
       "      <td>2019-07-31 22:00:04+00:00</td>\n",
       "      <td>2019-07-31 20:51:34+00:00</td>\n",
       "      <td>0.897</td>\n",
       "      <td>1_1_178_817_2019-07-31 19:21:46.727697</td>\n",
       "      <td>1</td>\n",
       "      <td>AG-1F09</td>\n",
       "      <td>1-1-178-817</td>\n",
       "      <td>America/Los_Angeles</td>\n",
       "      <td>NaN</td>\n",
       "      <td>NaN</td>\n",
       "    </tr>\n",
       "  </tbody>\n",
       "</table>\n",
       "<p>66450 rows × 13 columns</p>\n",
       "</div>"
      ],
      "text/plain": [
       "       Unnamed: 0                        id             connectionTime  \\\n",
       "0               0  5e23b149f9af8b5fe4b973cf  2020-01-02 13:08:54+00:00   \n",
       "1               1  5e23b149f9af8b5fe4b973d0  2020-01-02 13:36:50+00:00   \n",
       "2               2  5e23b149f9af8b5fe4b973d1  2020-01-02 13:56:35+00:00   \n",
       "3               3  5e23b149f9af8b5fe4b973d2  2020-01-02 13:59:58+00:00   \n",
       "4               4  5e23b149f9af8b5fe4b973d3  2020-01-02 14:00:01+00:00   \n",
       "...           ...                       ...                        ...   \n",
       "66445       10083  5d574ad2f9af8b4c10c03652  2019-07-31 18:08:04+00:00   \n",
       "66446       10084  5d574ad2f9af8b4c10c03653  2019-07-31 18:40:41+00:00   \n",
       "66447       10085  5d574ad2f9af8b4c10c03654  2019-07-31 19:04:40+00:00   \n",
       "66448       10086  5d574ad2f9af8b4c10c03655  2019-07-31 19:19:47+00:00   \n",
       "66449       10087  5d574ad2f9af8b4c10c03656  2019-07-31 19:21:47+00:00   \n",
       "\n",
       "                  disconnectTime           doneChargingTime  kWhDelivered  \\\n",
       "0      2020-01-02 19:11:15+00:00  2020-01-02 17:31:35+00:00        25.016   \n",
       "1      2020-01-02 22:38:21+00:00  2020-01-02 20:18:05+00:00        33.097   \n",
       "2      2020-01-03 00:39:22+00:00  2020-01-02 16:35:06+00:00         6.521   \n",
       "3      2020-01-02 16:38:39+00:00  2020-01-02 15:18:45+00:00         2.355   \n",
       "4      2020-01-02 22:08:40+00:00  2020-01-02 18:17:30+00:00        13.375   \n",
       "...                          ...                        ...           ...   \n",
       "66445  2019-07-31 23:29:18+00:00  2019-07-31 23:30:18+00:00        28.787   \n",
       "66446  2019-08-01 00:59:42+00:00  2019-07-31 21:44:23+00:00         7.787   \n",
       "66447  2019-07-31 22:44:22+00:00  2019-07-31 22:45:21+00:00        11.274   \n",
       "66448  2019-08-01 00:34:51+00:00  2019-07-31 21:25:30+00:00        11.589   \n",
       "66449  2019-07-31 22:00:04+00:00  2019-07-31 20:51:34+00:00         0.897   \n",
       "\n",
       "                                    sessionID  siteID  spaceID    stationID  \\\n",
       "0      1_1_179_810_2020-01-02 13:08:53.870034       1  AG-3F30  1-1-179-810   \n",
       "1      1_1_193_825_2020-01-02 13:36:49.599853       1  AG-1F01  1-1-193-825   \n",
       "2      1_1_193_829_2020-01-02 13:56:35.214993       1  AG-1F03  1-1-193-829   \n",
       "3      1_1_193_820_2020-01-02 13:59:58.309319       1  AG-1F04  1-1-193-820   \n",
       "4      1_1_193_819_2020-01-02 14:00:00.779967       1  AG-1F06  1-1-193-819   \n",
       "...                                       ...     ...      ...          ...   \n",
       "66445  1_1_179_809_2019-07-31 18:08:04.432654       1  AG-3F27  1-1-179-809   \n",
       "66446  1_1_179_810_2019-07-31 18:40:40.900203       1  AG-3F30  1-1-179-810   \n",
       "66447  1_1_191_795_2019-07-31 19:04:40.098273       1  AG-4F51  1-1-191-795   \n",
       "66448  1_1_191_778_2019-07-31 19:19:46.919358       1  AG-4F43  1-1-191-778   \n",
       "66449  1_1_178_817_2019-07-31 19:21:46.727697       1  AG-1F09  1-1-178-817   \n",
       "\n",
       "                  timezone  userID  \\\n",
       "0      America/Los_Angeles   194.0   \n",
       "1      America/Los_Angeles  4275.0   \n",
       "2      America/Los_Angeles   344.0   \n",
       "3      America/Los_Angeles  1117.0   \n",
       "4      America/Los_Angeles   334.0   \n",
       "...                    ...     ...   \n",
       "66445  America/Los_Angeles   393.0   \n",
       "66446  America/Los_Angeles   220.0   \n",
       "66447  America/Los_Angeles  1974.0   \n",
       "66448  America/Los_Angeles   942.0   \n",
       "66449  America/Los_Angeles     NaN   \n",
       "\n",
       "                                              userInputs  \n",
       "0      [{'WhPerMile': 250, 'kWhRequested': 25.0, 'mil...  \n",
       "1      [{'WhPerMile': 280, 'kWhRequested': 70.0, 'mil...  \n",
       "2      [{'WhPerMile': 400, 'kWhRequested': 8.0, 'mile...  \n",
       "3      [{'WhPerMile': 400, 'kWhRequested': 8.0, 'mile...  \n",
       "4      [{'WhPerMile': 400, 'kWhRequested': 16.0, 'mil...  \n",
       "...                                                  ...  \n",
       "66445  [{'WhPerMile': 240, 'kWhRequested': 31.2, 'mil...  \n",
       "66446  [{'WhPerMile': 333, 'kWhRequested': 6.66, 'mil...  \n",
       "66447  [{'WhPerMile': 333, 'kWhRequested': 19.98, 'mi...  \n",
       "66448  [{'WhPerMile': 275, 'kWhRequested': 22.0, 'mil...  \n",
       "66449                                                NaN  \n",
       "\n",
       "[66450 rows x 13 columns]"
      ]
     },
     "execution_count": 3,
     "metadata": {},
     "output_type": "execute_result"
    }
   ],
   "source": [
    "df_ev"
   ]
  },
  {
   "cell_type": "code",
   "execution_count": 4,
   "metadata": {},
   "outputs": [
    {
     "name": "stdout",
     "output_type": "stream",
     "text": [
      "         Unnamed: 0  kWhDelivered        siteID        userID\n",
      "count  66450.000000  66450.000000  66450.000000  49187.000000\n",
      "mean    4726.102062     11.787916      1.472656   1800.494582\n",
      "std     3568.025394     10.314789      0.499256   2617.548614\n",
      "min        0.000000      0.501000      1.000000      1.000000\n",
      "25%     1845.000000      5.097000      1.000000    431.000000\n",
      "50%     3960.000000      9.140000      1.000000    818.000000\n",
      "75%     7027.000000     14.183000      2.000000   1805.000000\n",
      "max    15291.000000    108.797242      2.000000  19923.000000\n"
     ]
    }
   ],
   "source": [
    "print(df_ev.describe())    "
   ]
  },
  {
   "cell_type": "code",
   "execution_count": 5,
   "metadata": {},
   "outputs": [
    {
     "name": "stdout",
     "output_type": "stream",
     "text": [
      "(66450, 13)\n"
     ]
    }
   ],
   "source": [
    "print(df_ev.shape) "
   ]
  },
  {
   "cell_type": "markdown",
   "metadata": {},
   "source": [
    "## Data Prep"
   ]
  },
  {
   "cell_type": "markdown",
   "metadata": {},
   "source": [
    "### Assign correct Datatypes"
   ]
  },
  {
   "cell_type": "code",
   "execution_count": 6,
   "metadata": {},
   "outputs": [
    {
     "name": "stdout",
     "output_type": "stream",
     "text": [
      "Unnamed: 0            int64\n",
      "id                   object\n",
      "connectionTime       object\n",
      "disconnectTime       object\n",
      "doneChargingTime     object\n",
      "kWhDelivered        float64\n",
      "sessionID            object\n",
      "siteID                int64\n",
      "spaceID              object\n",
      "stationID            object\n",
      "timezone             object\n",
      "userID              float64\n",
      "userInputs           object\n",
      "dtype: object\n"
     ]
    }
   ],
   "source": [
    "print(df_ev.dtypes)"
   ]
  },
  {
   "cell_type": "code",
   "execution_count": 7,
   "metadata": {},
   "outputs": [],
   "source": [
    "df_ev['id'] = df_ev['id'].astype('string')\n",
    "\n",
    "df_ev['connectionTime'] = pd.to_datetime(df_ev['connectionTime'], errors='coerce', utc=True)  \n",
    "df_ev['disconnectTime'] = pd.to_datetime(df_ev['disconnectTime'], errors='coerce', utc=True)  \n",
    "df_ev['doneChargingTime'] = pd.to_datetime(df_ev['doneChargingTime'], errors='coerce', utc=True) \n",
    "\n",
    "df_ev['connectionTime'] = df_ev['connectionTime'].dt.tz_convert('America/Los_Angeles')\n",
    "df_ev['disconnectTime'] = df_ev['disconnectTime'].dt.tz_convert('America/Los_Angeles')\n",
    "df_ev['doneChargingTime'] = df_ev['doneChargingTime'].dt.tz_convert('America/Los_Angeles')\n",
    "\n",
    "df_ev['sessionID'] = df_ev['sessionID'].astype('string')\n",
    "df_ev['siteID'] = df_ev['siteID'].astype('string')\n",
    "df_ev['spaceID'] = df_ev['spaceID'].astype('string')\n",
    "df_ev['stationID'] = df_ev['stationID'].astype('string')\n",
    "df_ev['timezone'] = df_ev['timezone'].astype('string')\n",
    "df_ev['userID'] = df_ev['userID'].astype('string')"
   ]
  },
  {
   "cell_type": "markdown",
   "metadata": {},
   "source": [
    "### Seperate User Inputs"
   ]
  },
  {
   "cell_type": "code",
   "execution_count": 8,
   "metadata": {},
   "outputs": [
    {
     "name": "stdout",
     "output_type": "stream",
     "text": [
      "0    [{'WhPerMile': 250, 'kWhRequested': 25.0, 'mil...\n",
      "1    [{'WhPerMile': 280, 'kWhRequested': 70.0, 'mil...\n",
      "2    [{'WhPerMile': 400, 'kWhRequested': 8.0, 'mile...\n",
      "3    [{'WhPerMile': 400, 'kWhRequested': 8.0, 'mile...\n",
      "4    [{'WhPerMile': 400, 'kWhRequested': 16.0, 'mil...\n",
      "Name: userInputs, dtype: object\n"
     ]
    }
   ],
   "source": [
    "print(df_ev['userInputs'].head())"
   ]
  },
  {
   "cell_type": "code",
   "execution_count": 9,
   "metadata": {},
   "outputs": [],
   "source": [
    "#Convert list\n",
    "\n",
    "df_ev['userInputs'] = df_ev['userInputs'].apply(\n",
    "    lambda x: ast.literal_eval(x) if pd.notnull(x) else []\n",
    ")"
   ]
  },
  {
   "cell_type": "code",
   "execution_count": 10,
   "metadata": {},
   "outputs": [],
   "source": [
    "#explode list into rows\n",
    "df_exploded = df_ev.explode('userInputs', ignore_index=True)"
   ]
  },
  {
   "cell_type": "code",
   "execution_count": 11,
   "metadata": {},
   "outputs": [],
   "source": [
    "#normalize dictionaries into separate columns\n",
    "df_normalized = pd.json_normalize(df_exploded['userInputs'])\n",
    "\n",
    "#modify time datatype and convert to correct timezone\n",
    "df_normalized['modifiedAt'] = pd.to_datetime(df_normalized['modifiedAt'], errors='coerce')\n",
    "df_normalized['requestedDeparture'] = pd.to_datetime(df_normalized['requestedDeparture'], errors='coerce')\n",
    "\n",
    "df_normalized['modifiedAt'] = df_normalized['modifiedAt'].dt.tz_localize('UTC').dt.tz_convert('America/Los_Angeles')\n",
    "df_normalized['requestedDeparture'] = df_normalized['requestedDeparture'].dt.tz_localize('UTC').dt.tz_convert('America/Los_Angeles')\n",
    "\n",
    "df_normalized['userID'] = df_normalized['userID'].astype('string')\n",
    "df_normalized['paymentRequired'] = df_normalized['paymentRequired'].astype('bool')"
   ]
  },
  {
   "cell_type": "code",
   "execution_count": 12,
   "metadata": {},
   "outputs": [
    {
     "name": "stdout",
     "output_type": "stream",
     "text": [
      "WhPerMile                                         float64\n",
      "kWhRequested                                      float64\n",
      "milesRequested                                    float64\n",
      "minutesAvailable                                  float64\n",
      "modifiedAt            datetime64[ns, America/Los_Angeles]\n",
      "paymentRequired                                      bool\n",
      "requestedDeparture    datetime64[ns, America/Los_Angeles]\n",
      "userID                                     string[python]\n",
      "dtype: object\n"
     ]
    }
   ],
   "source": [
    "print(df_normalized.dtypes)"
   ]
  },
  {
   "cell_type": "markdown",
   "metadata": {},
   "source": [
    "#### Removal of User Inputs from Charging Dataset"
   ]
  },
  {
   "cell_type": "code",
   "execution_count": 13,
   "metadata": {},
   "outputs": [],
   "source": [
    "df_ev.drop(columns=['userInputs'], inplace=True)"
   ]
  },
  {
   "cell_type": "markdown",
   "metadata": {},
   "source": [
    "### Look for duplicates"
   ]
  },
  {
   "cell_type": "code",
   "execution_count": 14,
   "metadata": {},
   "outputs": [
    {
     "name": "stdout",
     "output_type": "stream",
     "text": [
      "Duplicate Session IDs: 1413\n"
     ]
    }
   ],
   "source": [
    "duplicateSessions = df_ev.duplicated(subset='sessionID').sum()\n",
    "print(\"Duplicate Session IDs:\", duplicateSessions)"
   ]
  },
  {
   "cell_type": "code",
   "execution_count": 15,
   "metadata": {},
   "outputs": [],
   "source": [
    "# Display duplicate rows\n",
    "duplicateRows = df_ev[df_ev.duplicated(subset='sessionID')]"
   ]
  },
  {
   "cell_type": "code",
   "execution_count": 16,
   "metadata": {},
   "outputs": [],
   "source": [
    "#Drop duplicates\n",
    "df_ev.drop_duplicates(subset='sessionID', keep='first', inplace=True)"
   ]
  },
  {
   "cell_type": "markdown",
   "metadata": {},
   "source": [
    "### Look for missing data"
   ]
  },
  {
   "cell_type": "code",
   "execution_count": 17,
   "metadata": {},
   "outputs": [
    {
     "name": "stdout",
     "output_type": "stream",
     "text": [
      "Unnamed: 0              0\n",
      "id                      0\n",
      "connectionTime          0\n",
      "disconnectTime          0\n",
      "doneChargingTime     4087\n",
      "kWhDelivered            0\n",
      "sessionID               0\n",
      "siteID                  0\n",
      "spaceID                 0\n",
      "stationID               0\n",
      "timezone                0\n",
      "userID              17215\n",
      "dtype: int64\n"
     ]
    }
   ],
   "source": [
    "print(df_ev.isnull().sum())"
   ]
  },
  {
   "cell_type": "markdown",
   "metadata": {},
   "source": [
    "### Handle missing data"
   ]
  },
  {
   "cell_type": "code",
   "execution_count": 18,
   "metadata": {},
   "outputs": [],
   "source": [
    "# Copy for safety\n",
    "charging_data = df_ev.copy()"
   ]
  },
  {
   "cell_type": "code",
   "execution_count": 19,
   "metadata": {},
   "outputs": [
    {
     "name": "stdout",
     "output_type": "stream",
     "text": [
      "<class 'pandas.core.frame.DataFrame'>\n",
      "Index: 65037 entries, 0 to 65036\n",
      "Data columns (total 12 columns):\n",
      " #   Column            Non-Null Count  Dtype                              \n",
      "---  ------            --------------  -----                              \n",
      " 0   Unnamed: 0        65037 non-null  int64                              \n",
      " 1   id                65037 non-null  string                             \n",
      " 2   connectionTime    65037 non-null  datetime64[ns, America/Los_Angeles]\n",
      " 3   disconnectTime    65037 non-null  datetime64[ns, America/Los_Angeles]\n",
      " 4   doneChargingTime  60950 non-null  datetime64[ns, America/Los_Angeles]\n",
      " 5   kWhDelivered      65037 non-null  float64                            \n",
      " 6   sessionID         65037 non-null  string                             \n",
      " 7   siteID            65037 non-null  string                             \n",
      " 8   spaceID           65037 non-null  string                             \n",
      " 9   stationID         65037 non-null  string                             \n",
      " 10  timezone          65037 non-null  string                             \n",
      " 11  userID            47822 non-null  string                             \n",
      "dtypes: datetime64[ns, America/Los_Angeles](3), float64(1), int64(1), string(7)\n",
      "memory usage: 6.5 MB\n"
     ]
    }
   ],
   "source": [
    "charging_data.info()"
   ]
  },
  {
   "cell_type": "code",
   "execution_count": 20,
   "metadata": {},
   "outputs": [
    {
     "name": "stdout",
     "output_type": "stream",
     "text": [
      "Proportion of missing 'doneChargingTime' values: 6.28%\n",
      "         Unnamed: 0  kWhDelivered\n",
      "count   4087.000000   4087.000000\n",
      "mean    2341.231955     13.986472\n",
      "std     2286.691867     11.767162\n",
      "min        0.000000      0.502000\n",
      "25%      639.500000      5.784500\n",
      "50%     1203.000000     10.899000\n",
      "75%     3805.500000     18.145000\n",
      "max    14871.000000     77.700000\n"
     ]
    }
   ],
   "source": [
    "#analyze proportion of missing values\n",
    "missing_proportion = charging_data['doneChargingTime'].isnull().mean()\n",
    "print(f\"Proportion of missing 'doneChargingTime' values: {missing_proportion:.2%}\")\n",
    "\n",
    "# investigate patterns\n",
    "print(charging_data[charging_data['doneChargingTime'].isnull()].describe())"
   ]
  },
  {
   "cell_type": "code",
   "execution_count": 21,
   "metadata": {},
   "outputs": [
    {
     "name": "stdout",
     "output_type": "stream",
     "text": [
      "Unnamed: 0              0\n",
      "id                      0\n",
      "connectionTime          0\n",
      "disconnectTime          0\n",
      "doneChargingTime     4087\n",
      "kWhDelivered            0\n",
      "sessionID               0\n",
      "siteID                  0\n",
      "spaceID                 0\n",
      "stationID               0\n",
      "timezone                0\n",
      "userID              17215\n",
      "dtype: int64\n"
     ]
    }
   ],
   "source": [
    "#charging_data = charging_data.dropna(subset=['doneChargingTime'])\n",
    "print(charging_data.isnull().sum())"
   ]
  },
  {
   "cell_type": "code",
   "execution_count": 22,
   "metadata": {},
   "outputs": [],
   "source": [
    "# handle missing user IDs ?"
   ]
  },
  {
   "cell_type": "markdown",
   "metadata": {},
   "source": [
    "### Look for erroneous data"
   ]
  },
  {
   "cell_type": "code",
   "execution_count": 23,
   "metadata": {},
   "outputs": [
    {
     "name": "stdout",
     "output_type": "stream",
     "text": [
      "DisconnectTime before connectionTime: 0\n"
     ]
    }
   ],
   "source": [
    "disconnectBeforeConnect = charging_data[charging_data['disconnectTime'] < charging_data['connectionTime']]\n",
    "print(f\"DisconnectTime before connectionTime: {disconnectBeforeConnect.shape[0]}\")"
   ]
  },
  {
   "cell_type": "code",
   "execution_count": 24,
   "metadata": {},
   "outputs": [
    {
     "name": "stdout",
     "output_type": "stream",
     "text": [
      "doneChargingTime before connectionTime: 27\n"
     ]
    }
   ],
   "source": [
    "doneBeforeConnect = charging_data[charging_data['doneChargingTime'] < charging_data['connectionTime']]\n",
    "print(f\"doneChargingTime before connectionTime: {doneBeforeConnect.shape[0]}\")"
   ]
  },
  {
   "cell_type": "code",
   "execution_count": 25,
   "metadata": {},
   "outputs": [
    {
     "data": {
      "text/html": [
       "<div>\n",
       "<style scoped>\n",
       "    .dataframe tbody tr th:only-of-type {\n",
       "        vertical-align: middle;\n",
       "    }\n",
       "\n",
       "    .dataframe tbody tr th {\n",
       "        vertical-align: top;\n",
       "    }\n",
       "\n",
       "    .dataframe thead th {\n",
       "        text-align: right;\n",
       "    }\n",
       "</style>\n",
       "<table border=\"1\" class=\"dataframe\">\n",
       "  <thead>\n",
       "    <tr style=\"text-align: right;\">\n",
       "      <th></th>\n",
       "      <th>connectionTime</th>\n",
       "      <th>doneChargingTime</th>\n",
       "    </tr>\n",
       "  </thead>\n",
       "  <tbody>\n",
       "    <tr>\n",
       "      <th>22219</th>\n",
       "      <td>2019-03-05 11:13:55-08:00</td>\n",
       "      <td>2019-03-05 11:12:56-08:00</td>\n",
       "    </tr>\n",
       "    <tr>\n",
       "      <th>22253</th>\n",
       "      <td>2019-03-06 12:26:30-08:00</td>\n",
       "      <td>2019-03-06 12:25:34-08:00</td>\n",
       "    </tr>\n",
       "    <tr>\n",
       "      <th>23562</th>\n",
       "      <td>2019-04-15 13:24:13-07:00</td>\n",
       "      <td>2019-04-15 13:23:14-07:00</td>\n",
       "    </tr>\n",
       "    <tr>\n",
       "      <th>23586</th>\n",
       "      <td>2019-04-16 09:11:08-07:00</td>\n",
       "      <td>2019-04-16 09:10:11-07:00</td>\n",
       "    </tr>\n",
       "    <tr>\n",
       "      <th>27689</th>\n",
       "      <td>2019-09-04 09:35:04-07:00</td>\n",
       "      <td>2019-09-04 09:34:05-07:00</td>\n",
       "    </tr>\n",
       "  </tbody>\n",
       "</table>\n",
       "</div>"
      ],
      "text/plain": [
       "                 connectionTime          doneChargingTime\n",
       "22219 2019-03-05 11:13:55-08:00 2019-03-05 11:12:56-08:00\n",
       "22253 2019-03-06 12:26:30-08:00 2019-03-06 12:25:34-08:00\n",
       "23562 2019-04-15 13:24:13-07:00 2019-04-15 13:23:14-07:00\n",
       "23586 2019-04-16 09:11:08-07:00 2019-04-16 09:10:11-07:00\n",
       "27689 2019-09-04 09:35:04-07:00 2019-09-04 09:34:05-07:00"
      ]
     },
     "metadata": {},
     "output_type": "display_data"
    }
   ],
   "source": [
    "display(doneBeforeConnect[['connectionTime', 'doneChargingTime']].head())"
   ]
  },
  {
   "cell_type": "code",
   "execution_count": 26,
   "metadata": {},
   "outputs": [],
   "source": [
    "# Drop rows where doneChargingTime is before connectionTime\n",
    "charging_data.drop(charging_data[charging_data['doneChargingTime'] < charging_data['connectionTime']].index, inplace=True)\n"
   ]
  },
  {
   "cell_type": "markdown",
   "metadata": {},
   "source": [
    "### Look for outliers"
   ]
  },
  {
   "cell_type": "code",
   "execution_count": 27,
   "metadata": {},
   "outputs": [],
   "source": [
    "charging_data['chargingDuration'] = ((charging_data['doneChargingTime'] - charging_data['connectionTime']).dt.total_seconds()) / 60"
   ]
  },
  {
   "cell_type": "code",
   "execution_count": 28,
   "metadata": {},
   "outputs": [
    {
     "name": "stdout",
     "output_type": "stream",
     "text": [
      "Outliers in kWhDelivered: 5595\n",
      "Outliers in chargingDuration: 2038\n"
     ]
    },
    {
     "data": {
      "image/png": "[encoded data removed]",
      "text/plain": [
       "<Figure size 800x600 with 1 Axes>"
      ]
     },
     "metadata": {},
     "output_type": "display_data"
    },
    {
     "data": {
      "image/png": "[encoded data removed]",
      "text/plain": [
       "<Figure size 800x600 with 1 Axes>"
      ]
     },
     "metadata": {},
     "output_type": "display_data"
    }
   ],
   "source": [
    "# Detect outliers using the IQR method\n",
    "numerical_columns = ['kWhDelivered', 'chargingDuration']\n",
    "for column in numerical_columns:\n",
    "    Q1 = charging_data[column].quantile(0.25)  # First quartile\n",
    "    Q3 = charging_data[column].quantile(0.75)  # Third quartile\n",
    "    IQR = Q3 - Q1  # Interquartile range\n",
    "    lower_bound = Q1 - 1.5 * IQR\n",
    "    upper_bound = Q3 + 1.5 * IQR\n",
    "    outliers = charging_data[(charging_data[column] < lower_bound) | (charging_data[column] > upper_bound)]\n",
    "    print(f\"Outliers in {column}: {len(outliers)}\")\n",
    "\n",
    "# Boxplot for each column\n",
    "for column in numerical_columns:\n",
    "    plt.figure(figsize=(8, 6))\n",
    "    plt.boxplot(charging_data[column].dropna(), vert=True, patch_artist=True, showfliers=True)\n",
    "    plt.title(f'Boxplot of {column}', fontsize=14)\n",
    "    plt.ylabel(column, fontsize=12)\n",
    "    plt.grid(axis='y')\n",
    "    plt.show()"
   ]
  },
  {
   "cell_type": "code",
   "execution_count": 29,
   "metadata": {},
   "outputs": [
    {
     "name": "stdout",
     "output_type": "stream",
     "text": [
      "Rows with very High kWhDelivered: 2\n"
     ]
    }
   ],
   "source": [
    "highkWhDelivered = charging_data[charging_data['kWhDelivered'] > 80]\n",
    "print(f\"Rows with very High kWhDelivered: {highkWhDelivered.shape[0]}\")"
   ]
  },
  {
   "cell_type": "code",
   "execution_count": 30,
   "metadata": {},
   "outputs": [
    {
     "name": "stdout",
     "output_type": "stream",
     "text": [
      "Number of rows longer than 4000 minutes: 14\n"
     ]
    }
   ],
   "source": [
    "#analyze outliers with unrealistic charging durations\n",
    "longChargingDuration = charging_data[(charging_data['chargingDuration'] > 4000)]\n",
    "print(f\"Number of rows longer than 4000 minutes: {longChargingDuration.shape[0]}\")"
   ]
  },
  {
   "cell_type": "code",
   "execution_count": 31,
   "metadata": {},
   "outputs": [],
   "source": [
    "charging_data.drop(charging_data[charging_data['chargingDuration'] > 4000].index, inplace=True)\n",
    "charging_data.drop(charging_data[charging_data['kWhDelivered'] > 80].index, inplace=True)"
   ]
  },
  {
   "cell_type": "code",
   "execution_count": 32,
   "metadata": {},
   "outputs": [
    {
     "name": "stdout",
     "output_type": "stream",
     "text": [
      "Outliers in kWhDelivered: 5593\n",
      "Outliers in chargingDuration: 2034\n"
     ]
    },
    {
     "data": {
      "image/png": "[encoded data removed]",
      "text/plain": [
       "<Figure size 800x600 with 1 Axes>"
      ]
     },
     "metadata": {},
     "output_type": "display_data"
    },
    {
     "data": {
      "image/png": "[encoded data removed]",
      "text/plain": [
       "<Figure size 800x600 with 1 Axes>"
      ]
     },
     "metadata": {},
     "output_type": "display_data"
    }
   ],
   "source": [
    "numerical_columns = ['kWhDelivered', 'chargingDuration']\n",
    "for column in numerical_columns:\n",
    "    Q1 = charging_data[column].quantile(0.25)  # First quartile\n",
    "    Q3 = charging_data[column].quantile(0.75)  # Third quartile\n",
    "    IQR = Q3 - Q1  # Interquartile range\n",
    "    lower_bound = Q1 - 1.5 * IQR\n",
    "    upper_bound = Q3 + 1.5 * IQR\n",
    "    outliers = charging_data[(charging_data[column] < lower_bound) | (charging_data[column] > upper_bound)]\n",
    "    print(f\"Outliers in {column}: {len(outliers)}\")\n",
    "\n",
    "# Boxplot for each column\n",
    "for column in numerical_columns:\n",
    "    plt.figure(figsize=(8, 6))\n",
    "    plt.boxplot(charging_data[column].dropna(), vert=True, patch_artist=True, showfliers=True)\n",
    "    plt.title(f'Boxplot of {column}', fontsize=14)\n",
    "    plt.ylabel(column, fontsize=12)\n",
    "    plt.grid(axis='y')\n",
    "    plt.show()"
   ]
  },
  {
   "cell_type": "markdown",
   "metadata": {},
   "source": [
    "### Save cleaned datasets"
   ]
  },
  {
   "cell_type": "code",
   "execution_count": 33,
   "metadata": {},
   "outputs": [],
   "source": [
    "charging_data.to_csv('data/cleaned_chargingdata.csv')\n",
    "df_normalized.to_csv('data/userInputs.csv')"
   ]
  }
 ],
 "metadata": {
  "kernelspec": {
   "display_name": "AA",
   "language": "python",
   "name": "python3"
  },
  "language_info": {
   "codemirror_mode": {
    "name": "ipython",
    "version": 3
   },
   "file_extension": ".py",
   "mimetype": "text/x-python",
   "name": "python",
   "nbconvert_exporter": "python",
   "pygments_lexer": "ipython3",
   "version": "3.12.3"
  }
 },
 "nbformat": 4,
 "nbformat_minor": 2
}
